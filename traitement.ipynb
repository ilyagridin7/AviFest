{
 "cells": [
  {
   "cell_type": "code",
   "execution_count": null,
   "metadata": {},
   "outputs": [],
   "source": [
    "import pyspark\n",
    "from pyspark.sql import SparkSession\n",
    "import json\n",
    "import random\n",
    "import pandas as pd\n",
    "import pymongo\n",
    "import re\n",
    "from itertools import tee"
   ]
  },
  {
   "cell_type": "code",
   "execution_count": null,
   "metadata": {},
   "outputs": [],
   "source": [
    "client = pymongo.MongoClient(\"mongodb://127.0.0.1:27017/\")\n",
    "spark = SparkSession.builder.getOrCreate()\n",
    "client.drop_database('AviFest')"
   ]
  },
  {
   "cell_type": "code",
   "execution_count": null,
   "metadata": {},
   "outputs": [],
   "source": [
    "db = client['AviFest']"
   ]
  },
  {
   "cell_type": "code",
   "execution_count": null,
   "metadata": {},
   "outputs": [],
   "source": [
    "df = spark.read.json('persons.json').toPandas()\n",
    "def preprocessing(row):\n",
    "    row['sexe'] = row['sexe'][0]\n",
    "    firstname, lastname, *_ = row['name'].split(' ')\n",
    "    row['firstname'] = firstname\n",
    "    row['lastname'] = lastname\n",
    "    \n",
    "    del row['name']\n",
    "    \n",
    "    return row\n",
    "\n",
    "\n",
    "df = df.apply(preprocessing, axis=1)"
   ]
  },
  {
   "cell_type": "code",
   "execution_count": null,
   "metadata": {},
   "outputs": [],
   "source": [
    "collection = db['users']\n",
    "\n",
    "for index, row in df.iterrows():\n",
    "    collection.insert_one({\n",
    "        'phone': row['phone'],\n",
    "        'email': row['email'],\n",
    "        'sexe': row['sexe'],\n",
    "        'age': row['age'],\n",
    "        'firstname': row['firstname'],\n",
    "        'lastname': row['lastname'],\n",
    "    })"
   ]
  },
  {
   "cell_type": "code",
   "execution_count": null,
   "metadata": {},
   "outputs": [],
   "source": [
    "for document in collection.find({}):\n",
    "    print(document)"
   ]
  },
  {
   "cell_type": "code",
   "execution_count": null,
   "metadata": {},
   "outputs": [],
   "source": [
    "df = spark.read.options(header='True', inferSchema='True', delimiter=',') \\\n",
    "  .csv(\"show.csv\")\n",
    "df = df.drop(*filter(lambda x: '_c' in x, df.columns)).toPandas()"
   ]
  },
  {
   "cell_type": "code",
   "execution_count": null,
   "metadata": {},
   "outputs": [],
   "source": [
    "collection = db['shows']\n",
    "\n",
    "for index, row in df.iterrows():\n",
    "    collection.insert_one({\n",
    "        'title': row['title'],\n",
    "        'type': row['type'],\n",
    "        'artist': row['artist'],\n",
    "        'price': '',\n",
    "        'nbPlace': row['nb_place'],\n",
    "        'idLocation': '',\n",
    "    })"
   ]
  },
  {
   "cell_type": "code",
   "execution_count": null,
   "metadata": {},
   "outputs": [],
   "source": [
    "for document in collection.find({}):\n",
    "    print(document)"
   ]
  },
  {
   "cell_type": "code",
   "execution_count": null,
   "metadata": {},
   "outputs": [],
   "source": [
    "collection = db['parkings']\n",
    "\n",
    "rows, get_nb_rows = tee(spark.read.option(\"multiline\", \"true\").json('parkings.json').toPandas().iterrows())\n",
    "nb_parkings = len(list((get_nb_rows)))\n",
    "\n",
    "list_pmr = list(map(lambda x: x < 0.75, [random.random() for _ in range(nb_parkings)]))\n",
    "\n",
    "description: str\n",
    "for (_, (((lat, long), _), (description, name), _)), pmr, bus in zip(rows, list_pmr, reversed(list_pmr)):\n",
    "    \n",
    "    try:\n",
    "        slot = int(re.search(r'\\*\\*(\\d+)\\*\\*', description).group(1))\n",
    "        \n",
    "        if not slot:\n",
    "            slot = 'unknown'\n",
    "    except: slot = 'unknown'\n",
    "    \n",
    "    collection.insert_one({\n",
    "        'type': 'voiture',\n",
    "        'name': name,\n",
    "        'nbslots': slot,\n",
    "        'paying': not 'gratuit' in description.lower(),\n",
    "        'busFestiv': bus,\n",
    "        'pmr': pmr,\n",
    "        'idLocation': '',\n",
    "    })"
   ]
  },
  {
   "cell_type": "code",
   "execution_count": null,
   "metadata": {},
   "outputs": [],
   "source": [
    "for document in collection.find({}):\n",
    "    print(document)"
   ]
  }
 ],
 "metadata": {
  "kernelspec": {
   "display_name": "Python 3.9.0rc2 ('env': venv)",
   "language": "python",
   "name": "python3"
  },
  "language_info": {
   "codemirror_mode": {
    "name": "ipython",
    "version": 3
   },
   "file_extension": ".py",
   "mimetype": "text/x-python",
   "name": "python",
   "nbconvert_exporter": "python",
   "pygments_lexer": "ipython3",
   "version": "3.9.0"
  },
  "orig_nbformat": 4,
  "vscode": {
   "interpreter": {
    "hash": "35149e882e522fd65d9c429f4682805aab11d4e15be92a9167e161bfa5dcde43"
   }
  }
 },
 "nbformat": 4,
 "nbformat_minor": 2
}
