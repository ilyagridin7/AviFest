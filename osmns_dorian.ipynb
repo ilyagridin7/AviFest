{
 "cells": [
  {
   "cell_type": "code",
   "execution_count": 13,
   "metadata": {},
   "outputs": [],
   "source": [
    "from datetime import timedelta\n",
    "import osmnx as ox\n",
    "from osmnx import folium, distance\n",
    "import networkx as nx\n",
    "from sklearn.neighbors import BallTree"
   ]
  },
  {
   "cell_type": "code",
   "execution_count": 8,
   "metadata": {},
   "outputs": [],
   "source": [
    "city = \"avignon\"\n",
    "network_type = \"drive\"\n",
    "\n",
    "G = ox.graph_from_place(city, network_type=network_type)\n",
    "G = ox.add_edge_speeds(G)\n",
    "G = ox.add_edge_travel_times(G)"
   ]
  },
  {
   "cell_type": "code",
   "execution_count": 5,
   "metadata": {},
   "outputs": [],
   "source": [
    "ox.save_graphml(G, f\"{city}-{network_type}.graphml\")"
   ]
  },
  {
   "cell_type": "code",
   "execution_count": 18,
   "metadata": {},
   "outputs": [
    {
     "name": "stdout",
     "output_type": "stream",
     "text": [
      "<class 'sklearn.neighbors._ball_tree.BallTree'>\n"
     ]
    }
   ],
   "source": [
    "try:\n",
    "    from sklearn.neighbors import BallTree\n",
    "except ImportError:  # pragma: no cover\n",
    "    BallTree = None\n",
    "print(BallTree)"
   ]
  },
  {
   "cell_type": "code",
   "execution_count": 20,
   "metadata": {},
   "outputs": [
    {
     "ename": "ImportError",
     "evalue": "scikit-learn must be installed to search an unprojected graph",
     "output_type": "error",
     "traceback": [
      "\u001b[1;31m---------------------------------------------------------------------------\u001b[0m",
      "\u001b[1;31mImportError\u001b[0m                               Traceback (most recent call last)",
      "Cell \u001b[1;32mIn[20], line 3\u001b[0m\n\u001b[0;32m      1\u001b[0m origin \u001b[39m=\u001b[39m (\u001b[39m4.871105\u001b[39m, \u001b[39m43.934909\u001b[39m)\n\u001b[0;32m      2\u001b[0m destination \u001b[39m=\u001b[39m (\u001b[39m4.781975\u001b[39m, \u001b[39m43.922568\u001b[39m)\n\u001b[1;32m----> 3\u001b[0m origin_node \u001b[39m=\u001b[39m distance\u001b[39m.\u001b[39;49mnearest_nodes(G, \u001b[39m*\u001b[39;49morigin)\n\u001b[0;32m      4\u001b[0m destination_node \u001b[39m=\u001b[39m distance\u001b[39m.\u001b[39mnearest_nodes(G, \u001b[39m*\u001b[39mdestination)\n\u001b[0;32m      5\u001b[0m shortest_route_by_distance \u001b[39m=\u001b[39m ox\u001b[39m.\u001b[39mshortest_path(G, origin_node, destination_node, weight\u001b[39m=\u001b[39m\u001b[39m'\u001b[39m\u001b[39mlength\u001b[39m\u001b[39m'\u001b[39m)\n",
      "File \u001b[1;32mc:\\Users\\billo\\OneDrive\\Bureau\\DataViz\\AviFest\\env\\Lib\\site-packages\\osmnx\\distance.py:216\u001b[0m, in \u001b[0;36mnearest_nodes\u001b[1;34m(G, X, Y, return_dist)\u001b[0m\n\u001b[0;32m    213\u001b[0m \u001b[39melse\u001b[39;00m:\n\u001b[0;32m    214\u001b[0m     \u001b[39m# if unprojected, use ball tree for haversine nearest-neighbor search\u001b[39;00m\n\u001b[0;32m    215\u001b[0m     \u001b[39mif\u001b[39;00m BallTree \u001b[39mis\u001b[39;00m \u001b[39mNone\u001b[39;00m:  \u001b[39m# pragma: no cover\u001b[39;00m\n\u001b[1;32m--> 216\u001b[0m         \u001b[39mraise\u001b[39;00m \u001b[39mImportError\u001b[39;00m(\u001b[39m\"\u001b[39m\u001b[39mscikit-learn must be installed to search an unprojected graph\u001b[39m\u001b[39m\"\u001b[39m)\n\u001b[0;32m    217\u001b[0m     \u001b[39m# haversine requires lat, lng coords in radians\u001b[39;00m\n\u001b[0;32m    218\u001b[0m     nodes_rad \u001b[39m=\u001b[39m np\u001b[39m.\u001b[39mdeg2rad(nodes[[\u001b[39m\"\u001b[39m\u001b[39my\u001b[39m\u001b[39m\"\u001b[39m, \u001b[39m\"\u001b[39m\u001b[39mx\u001b[39m\u001b[39m\"\u001b[39m]])\n",
      "\u001b[1;31mImportError\u001b[0m: scikit-learn must be installed to search an unprojected graph"
     ]
    }
   ],
   "source": [
    "origin = (4.871105, 43.934909)\n",
    "destination = (4.781975, 43.922568)\n",
    "origin_node = distance.nearest_nodes(G, *origin)\n",
    "destination_node = distance.nearest_nodes(G, *destination)\n",
    "shortest_route_by_distance = ox.shortest_path(G, origin_node, destination_node, weight='length')"
   ]
  },
  {
   "cell_type": "code",
   "execution_count": null,
   "metadata": {},
   "outputs": [],
   "source": [
    "travel_time_in_seconds = nx.shortest_path_length(G, origin_node, destination_node, weight='travel_time')\n",
    "travel_time_in_hours_minutes_seconds = str(timedelta(seconds=travel_time_in_seconds))\n",
    "print(travel_time_in_hours_minutes_seconds)"
   ]
  },
  {
   "cell_type": "code",
   "execution_count": null,
   "metadata": {},
   "outputs": [],
   "source": [
    "distance_in_meters = nx.shortest_path_length(G, origin_node, destination_node, weight='length')\n",
    "distance_in_kilometers = distance_in_meters / 1000\n",
    "print(distance_in_kilometers)"
   ]
  }
 ],
 "metadata": {
  "kernelspec": {
   "display_name": "Python 3.11.0 ('env': venv)",
   "language": "python",
   "name": "python3"
  },
  "language_info": {
   "codemirror_mode": {
    "name": "ipython",
    "version": 3
   },
   "file_extension": ".py",
   "mimetype": "text/x-python",
   "name": "python",
   "nbconvert_exporter": "python",
   "pygments_lexer": "ipython3",
   "version": "3.11.0"
  },
  "orig_nbformat": 4,
  "vscode": {
   "interpreter": {
    "hash": "c12bee36989f28e5e1c12fab4f4acca5639cc01196467d9f9512280340dae30a"
   }
  }
 },
 "nbformat": 4,
 "nbformat_minor": 2
}
